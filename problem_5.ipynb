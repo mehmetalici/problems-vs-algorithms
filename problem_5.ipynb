{
 "cells": [
  {
   "cell_type": "markdown",
   "source": [
    "# Building a Trie in Python\r\n",
    "\r\n",
    "Before we start let us reiterate the key components of a Trie or Prefix Tree. A trie is a tree-like data structure that stores a dynamic set of strings. Tries are commonly used to facilitate operations like predictive text or autocomplete features on mobile phones or web search.\r\n",
    "\r\n",
    "Before we move into the autocomplete function we need to create a working trie for storing strings.  We will create two classes:\r\n",
    "* A `Trie` class that contains the root node (empty string)\r\n",
    "* A `TrieNode` class that exposes the general functionality of the Trie, like inserting a word or finding the node which represents a prefix.\r\n",
    "\r\n"
   ],
   "metadata": {}
  },
  {
   "cell_type": "code",
   "execution_count": 10,
   "source": [
    "## Represents a single node in the Trie\r\n",
    "class TrieNode:\r\n",
    "    def __init__(self) -> None:\r\n",
    "        self.children = {}   \r\n",
    "        self.is_word = False\r\n",
    "\r\n",
    "    def insert(self, char: str):\r\n",
    "        return self.children.setdefault(char, TrieNode()) \r\n",
    "\r\n",
    "\r\n",
    "class Trie:\r\n",
    "    def __init__(self) -> None:\r\n",
    "        self.root = TrieNode()\r\n",
    "\r\n",
    "    def insert(self, word: str) -> None:\r\n",
    "        if not isinstance(word, str):\r\n",
    "            raise ValueError(\"Inserted value to the trie must be of type str.\")\r\n",
    "            \r\n",
    "        node = self.root\r\n",
    "        for ch in word:\r\n",
    "            node = node.insert(ch)\r\n",
    "\r\n",
    "        node.is_word = True\r\n",
    "\r\n",
    "    def find(self, prefix: str) -> list:\r\n",
    "        node = self.root\r\n",
    "        for ch in prefix:\r\n",
    "            try:\r\n",
    "                node = node.children[ch]\r\n",
    "            except KeyError:\r\n",
    "                return\r\n",
    "        return node\r\n",
    "\r\n"
   ],
   "outputs": [],
   "metadata": {
    "collapsed": true
   }
  },
  {
   "cell_type": "markdown",
   "source": [
    "# Finding Suffixes\r\n",
    "\r\n",
    "Now that we have a functioning Trie, we need to add the ability to list suffixes to implement our autocomplete feature.  To do that, we need to implement a new function on the `TrieNode` object that will return all complete word suffixes that exist below it in the trie.  For example, if our Trie contains the words `[\"fun\", \"function\", \"factory\"]` and we ask for suffixes from the `f` node, we would expect to receive `[\"un\", \"unction\", \"actory\"]` back from `node.suffixes()`."
   ],
   "metadata": {}
  },
  {
   "cell_type": "code",
   "execution_count": 2,
   "source": [
    "## Represents a single node in the Trie\r\n",
    "class TrieNode:\r\n",
    "    def __init__(self) -> None:\r\n",
    "        self.children = {}\r\n",
    "        self.is_word = False\r\n",
    "\r\n",
    "    def insert(self, char: str) -> TrieNode:\r\n",
    "        return self.children.setdefault(char, TrieNode()) \r\n",
    "\r\n",
    "    def suffixes(self) -> list:\r\n",
    "        words = []\r\n",
    "\r\n",
    "        def find_by_dfs(node: TrieNode, accumulated_str: str):          \r\n",
    "            if node.is_word:\r\n",
    "                words.append(accumulated_str)\r\n",
    "\r\n",
    "            for ch, child in node.children.items():\r\n",
    "                find_by_dfs(child, accumulated_str+ch)\r\n",
    "\r\n",
    "        find_by_dfs(self, \"\")\r\n",
    "        return words\r\n"
   ],
   "outputs": [],
   "metadata": {
    "collapsed": true
   }
  },
  {
   "cell_type": "markdown",
   "source": [
    "# Testing it all out\r\n"
   ],
   "metadata": {}
  },
  {
   "cell_type": "markdown",
   "source": [
    "### Testing normal input"
   ],
   "metadata": {}
  },
  {
   "cell_type": "code",
   "execution_count": 3,
   "source": [
    "trie = Trie()\r\n",
    "word_list = [\r\n",
    "    \"ant\", \"anthology\", \"antagonist\", \"antonym\", \r\n",
    "    \"fun\", \"function\", \"factory\", \r\n",
    "    \"trie\", \"trigger\", \"trigonometry\", \"tripod\", \r\n",
    "]\r\n",
    "for word in word_list:\r\n",
    "    trie.insert(word)"
   ],
   "outputs": [],
   "metadata": {
    "collapsed": true
   }
  },
  {
   "cell_type": "code",
   "execution_count": 4,
   "source": [
    "from ipywidgets import widgets\r\n",
    "from IPython.display import display\r\n",
    "from ipywidgets import interact\r\n",
    "def f(prefix):\r\n",
    "    if prefix != '':\r\n",
    "        prefixNode = trie.find(prefix)\r\n",
    "        if prefixNode:\r\n",
    "            print('\\n'.join(prefixNode.suffixes()))\r\n",
    "        else:\r\n",
    "            print(prefix + \" not found\")\r\n",
    "    else:\r\n",
    "        print('')\r\n",
    "interact(f,prefix='')"
   ],
   "outputs": [
    {
     "output_type": "display_data",
     "data": {
      "text/plain": [
       "interactive(children=(Text(value='', description='prefix'), Output()), _dom_classes=('widget-interact',))"
      ],
      "application/vnd.jupyter.widget-view+json": {
       "model_id": "8a22ad2044d84065b395d530ecbf1759",
       "version_major": 2,
       "version_minor": 0
      }
     },
     "metadata": {}
    },
    {
     "output_type": "execute_result",
     "data": {
      "text/plain": [
       "<function __main__.f(prefix)>"
      ]
     },
     "metadata": {},
     "execution_count": 4
    }
   ],
   "metadata": {
    "collapsed": true
   }
  },
  {
   "cell_type": "markdown",
   "source": [
    "## Testing Huge Inputs\r\n",
    "Let's build a trie with huge entries and test its efficiency."
   ],
   "metadata": {}
  },
  {
   "cell_type": "code",
   "execution_count": 5,
   "source": [
    "def hugify(regular_input: list) -> list:\r\n",
    "    return (elt * 10 ** 2 for elt in word_list)"
   ],
   "outputs": [],
   "metadata": {}
  },
  {
   "cell_type": "code",
   "execution_count": 6,
   "source": [
    "trie = Trie()\r\n",
    "word_list = [\r\n",
    "    \"ant\", \"anthology\", \"antagonist\", \"antonym\", \r\n",
    "    \"fun\", \"function\", \"factory\", \r\n",
    "    \"trie\", \"trigger\", \"trigonometry\", \"tripod\", \r\n",
    "]\r\n",
    "\r\n",
    "for word in hugify(word_list):\r\n",
    "    trie.insert(word)\r\n",
    "\r\n",
    "\r\n",
    "interact(f, prefix='')"
   ],
   "outputs": [
    {
     "output_type": "display_data",
     "data": {
      "text/plain": [
       "interactive(children=(Text(value='', description='prefix'), Output()), _dom_classes=('widget-interact',))"
      ],
      "application/vnd.jupyter.widget-view+json": {
       "model_id": "4efa79ab2efa4c1fbe95accfc31b1855",
       "version_major": 2,
       "version_minor": 0
      }
     },
     "metadata": {}
    },
    {
     "output_type": "execute_result",
     "data": {
      "text/plain": [
       "<function __main__.f(prefix)>"
      ]
     },
     "metadata": {},
     "execution_count": 6
    }
   ],
   "metadata": {}
  },
  {
   "cell_type": "markdown",
   "source": [
    "## Testing Invalid Inputs"
   ],
   "metadata": {}
  },
  {
   "cell_type": "markdown",
   "source": [
    "### Integer Array"
   ],
   "metadata": {}
  },
  {
   "cell_type": "code",
   "execution_count": 14,
   "source": [
    "trie = Trie()\r\n",
    "word_list = [1, 12, 123, 1234]\r\n",
    "\r\n",
    "\r\n",
    "for word in word_list:\r\n",
    "    try:\r\n",
    "        trie.insert(word)  \r\n",
    "    except ValueError:\r\n",
    "        print(\"Value Error was occured.\")\r\n"
   ],
   "outputs": [
    {
     "output_type": "error",
     "ename": "ValueError",
     "evalue": "Inserted value to the trie must be of type str.",
     "traceback": [
      "\u001b[1;31m---------------------------------------------------------------------------\u001b[0m",
      "\u001b[1;31mValueError\u001b[0m                                Traceback (most recent call last)",
      "\u001b[1;32m~\\AppData\\Local\\Temp/ipykernel_13360/26360946.py\u001b[0m in \u001b[0;36m<module>\u001b[1;34m\u001b[0m\n\u001b[0;32m      3\u001b[0m \u001b[1;33m\u001b[0m\u001b[0m\n\u001b[0;32m      4\u001b[0m \u001b[1;32mfor\u001b[0m \u001b[0mword\u001b[0m \u001b[1;32min\u001b[0m \u001b[0mword_list\u001b[0m\u001b[1;33m:\u001b[0m\u001b[1;33m\u001b[0m\u001b[1;33m\u001b[0m\u001b[0m\n\u001b[1;32m----> 5\u001b[1;33m     \u001b[0mtrie\u001b[0m\u001b[1;33m.\u001b[0m\u001b[0minsert\u001b[0m\u001b[1;33m(\u001b[0m\u001b[0mword\u001b[0m\u001b[1;33m)\u001b[0m\u001b[1;33m\u001b[0m\u001b[1;33m\u001b[0m\u001b[0m\n\u001b[0m\u001b[0;32m      6\u001b[0m \u001b[1;33m\u001b[0m\u001b[0m\n\u001b[0;32m      7\u001b[0m \u001b[1;32mtry\u001b[0m\u001b[1;33m:\u001b[0m\u001b[1;33m\u001b[0m\u001b[1;33m\u001b[0m\u001b[0m\n",
      "\u001b[1;32m~\\AppData\\Local\\Temp/ipykernel_13360/1504833927.py\u001b[0m in \u001b[0;36minsert\u001b[1;34m(self, word)\u001b[0m\n\u001b[0;32m     15\u001b[0m     \u001b[1;32mdef\u001b[0m \u001b[0minsert\u001b[0m\u001b[1;33m(\u001b[0m\u001b[0mself\u001b[0m\u001b[1;33m,\u001b[0m \u001b[0mword\u001b[0m\u001b[1;33m:\u001b[0m \u001b[0mstr\u001b[0m\u001b[1;33m)\u001b[0m \u001b[1;33m->\u001b[0m \u001b[1;32mNone\u001b[0m\u001b[1;33m:\u001b[0m\u001b[1;33m\u001b[0m\u001b[1;33m\u001b[0m\u001b[0m\n\u001b[0;32m     16\u001b[0m         \u001b[1;32mif\u001b[0m \u001b[1;32mnot\u001b[0m \u001b[0misinstance\u001b[0m\u001b[1;33m(\u001b[0m\u001b[0mword\u001b[0m\u001b[1;33m,\u001b[0m \u001b[0mstr\u001b[0m\u001b[1;33m)\u001b[0m\u001b[1;33m:\u001b[0m\u001b[1;33m\u001b[0m\u001b[1;33m\u001b[0m\u001b[0m\n\u001b[1;32m---> 17\u001b[1;33m             \u001b[1;32mraise\u001b[0m \u001b[0mValueError\u001b[0m\u001b[1;33m(\u001b[0m\u001b[1;34m\"Inserted value to the trie must be of type str.\"\u001b[0m\u001b[1;33m)\u001b[0m\u001b[1;33m\u001b[0m\u001b[1;33m\u001b[0m\u001b[0m\n\u001b[0m\u001b[0;32m     18\u001b[0m \u001b[1;33m\u001b[0m\u001b[0m\n\u001b[0;32m     19\u001b[0m         \u001b[0mnode\u001b[0m \u001b[1;33m=\u001b[0m \u001b[0mself\u001b[0m\u001b[1;33m.\u001b[0m\u001b[0mroot\u001b[0m\u001b[1;33m\u001b[0m\u001b[1;33m\u001b[0m\u001b[0m\n",
      "\u001b[1;31mValueError\u001b[0m: Inserted value to the trie must be of type str."
     ]
    }
   ],
   "metadata": {}
  },
  {
   "cell_type": "markdown",
   "source": [
    "### Empty Array"
   ],
   "metadata": {}
  },
  {
   "cell_type": "code",
   "execution_count": 15,
   "source": [
    "trie = Trie()\r\n",
    "interact(f, prefix='')  # Empty List"
   ],
   "outputs": [
    {
     "output_type": "display_data",
     "data": {
      "text/plain": [
       "interactive(children=(Text(value='', description='prefix'), Output()), _dom_classes=('widget-interact',))"
      ],
      "application/vnd.jupyter.widget-view+json": {
       "model_id": "9cf66e133e25416cb0b144ee6415fa60",
       "version_major": 2,
       "version_minor": 0
      }
     },
     "metadata": {}
    },
    {
     "output_type": "execute_result",
     "data": {
      "text/plain": [
       "<function __main__.f(prefix)>"
      ]
     },
     "metadata": {},
     "execution_count": 15
    }
   ],
   "metadata": {}
  },
  {
   "cell_type": "markdown",
   "source": [],
   "metadata": {}
  }
 ],
 "metadata": {
  "interpreter": {
   "hash": "88c8755e05ac7e8aac56674af3691c1ba1c4261baa7ab32c8405b0ddda6f0521"
  },
  "kernelspec": {
   "display_name": "Python 3.8.5 64-bit",
   "name": "python3"
  },
  "language_info": {
   "codemirror_mode": {
    "name": "ipython",
    "version": 3
   },
   "file_extension": ".py",
   "mimetype": "text/x-python",
   "name": "python",
   "nbconvert_exporter": "python",
   "pygments_lexer": "ipython3",
   "version": "3.8.5"
  },
  "widgets": {
   "state": {},
   "version": "1.1.2"
  }
 },
 "nbformat": 4,
 "nbformat_minor": 2
}